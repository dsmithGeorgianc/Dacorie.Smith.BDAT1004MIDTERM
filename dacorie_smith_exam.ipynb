{
 "cells": [
  {
   "cell_type": "code",
   "execution_count": null,
   "id": "6d537644-7ac7-4953-bc0d-1f9c68a75265",
   "metadata": {},
   "outputs": [],
   "source": [
    "#Question 21\n",
    "#In a jupyter notebook solve the following question. Please upload the notebook to GitHub and provide the link submission box below.\n",
    "\n",
    "#__int()__: Constructor that takes as input a pair of Point objects that represent the ends points of the line segment\n",
    "#Length():: returns the length if the segment \n",
    "#Slope() returns the slope of the segment of none if the slope is unbounded \n",
    "\n",
    "#>>> p1 = Point(3,4)\n",
    "#>>> p2 = Point()\n",
    "#>>> s = Segment(p1,p2)\n",
    "#>>> s.length()\n",
    "#5.0\n",
    "#>>> s.slope()\n",
    "#0.75\n",
    "\n"
   ]
  },
  {
   "cell_type": "code",
   "execution_count": 12,
   "id": "bdee684d-489b-4729-a455-ea179f43a4bd",
   "metadata": {
    "tags": []
   },
   "outputs": [
    {
     "name": "stdout",
     "output_type": "stream",
     "text": [
      "5.0\n",
      "1.3333333333333333\n"
     ]
    }
   ],
   "source": [
    "#Question 21 Answer \n",
    "\n",
    "import math\n",
    "\n",
    "class Point:\n",
    "    def __init__(self, x=0, y=0): # Default values are 0 for x and y\n",
    "        self.x = x\n",
    "        self.y = y\n",
    "\n",
    "class Segment:\n",
    "    def __init__(self, p1, p2):\n",
    "        self.p1 = p1\n",
    "        self.p2 = p2\n",
    "\n",
    "    def length(self):\n",
    "        result_x = self.p2.x - self.p1.x\n",
    "        result_y = self.p2.y - self.p1.y\n",
    "\n",
    "        distance = math.sqrt(result_x**2 + result_y**2)\n",
    "\n",
    "        return distance\n",
    "\n",
    "    def slope(self):\n",
    "        if (self.p2.x - self.p1.x) == 0:  # If vertical\n",
    "            return \"unbounded\"\n",
    "        else:\n",
    "            return (self.p2.y - self.p1.y) / (self.p2.x - self.p1.x)\n",
    "\n",
    "\n",
    "# Testing\n",
    "p1 = Point(3, 4)\n",
    "p2 = Point()\n",
    "s = Segment(p1, p2)\n",
    "print(s.length())  # 5.0\n",
    "print(s.slope())   # 0.75\n",
    "\n",
    "\n",
    "\n"
   ]
  },
  {
   "cell_type": "code",
   "execution_count": null,
   "id": "70201b2a-adbf-467a-8396-d84b9a8879af",
   "metadata": {},
   "outputs": [],
   "source": []
  }
 ],
 "metadata": {
  "kernelspec": {
   "display_name": "Python 3 (ipykernel)",
   "language": "python",
   "name": "python3"
  },
  "language_info": {
   "codemirror_mode": {
    "name": "ipython",
    "version": 3
   },
   "file_extension": ".py",
   "mimetype": "text/x-python",
   "name": "python",
   "nbconvert_exporter": "python",
   "pygments_lexer": "ipython3",
   "version": "3.11.4"
  }
 },
 "nbformat": 4,
 "nbformat_minor": 5
}
