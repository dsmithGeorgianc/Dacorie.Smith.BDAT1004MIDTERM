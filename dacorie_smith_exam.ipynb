{
 "cells": [
  {
   "cell_type": "code",
   "execution_count": 12,
   "id": "bdee684d-489b-4729-a455-ea179f43a4bd",
   "metadata": {
    "tags": []
   },
   "outputs": [
    {
     "name": "stdout",
     "output_type": "stream",
     "text": [
      "5.0\n",
      "1.3333333333333333\n"
     ]
    }
   ],
   "source": [
    "#Question 21\n",
    "#In a jupyter notebook solve the following question. Please upload the notebook to GitHub and provide the link submission box below.\n",
    "\n",
    "#__int()__: Constructor that takes as input a pair of Point objects that represent the ends points of the line segment\n",
    "#Length():: returns the length if the segment \n",
    "#Slope() returns the slope of the segment of none if the slope is unbounded \n",
    "\n",
    "#>>> p1 = Point(3,4)\n",
    "#>>> p2 = Point()\n",
    "#>>> s = Segment(p1,p2)\n",
    "#>>> s.length()\n",
    "#5.0\n",
    "#>>> s.slope()\n",
    "#0.75\n",
    "#Question 21 Answer \n",
    "\n",
    "import math\n",
    "\n",
    "class Point:\n",
    "    def __init__(self, x=0, y=0): # Default values are 0 for x and y\n",
    "        self.x = x\n",
    "        self.y = y\n",
    "\n",
    "class Segment:\n",
    "    def __init__(self, p1, p2):\n",
    "        self.p1 = p1\n",
    "        self.p2 = p2\n",
    "\n",
    "    def length(self):\n",
    "        result_x = self.p2.x - self.p1.x\n",
    "        result_y = self.p2.y - self.p1.y\n",
    "\n",
    "        distance = math.sqrt(result_x**2 + result_y**2)\n",
    "\n",
    "        return distance\n",
    "\n",
    "    def slope(self):\n",
    "        if (self.p2.x - self.p1.x) == 0:  # If vertical\n",
    "            return none\n",
    "        else:\n",
    "            return (self.p2.y - self.p1.y) / (self.p2.x - self.p1.x)\n",
    "\n",
    "\n",
    "# Testing\n",
    "p1 = Point(3, 4)\n",
    "p2 = Point()\n",
    "s = Segment(p1, p2)\n",
    "print(s.length())  # 5.0\n",
    "print(s.slope())   # 0.75\n",
    "\n",
    "\n",
    "\n"
   ]
  },
  {
   "cell_type": "code",
   "execution_count": 42,
   "id": "7b557c1f-5548-4183-b5a5-a6d5e036c1d8",
   "metadata": {
    "tags": []
   },
   "outputs": [
    {
     "name": "stdout",
     "output_type": "stream",
     "text": [
      "id\n",
      "2\n",
      "4\n"
     ]
    }
   ],
   "source": [
    "#Question 22 Answer\n",
    "\n",
    "# Import necessary libraries\n",
    "import sqlite3\n",
    "import pandas as pd\n",
    "\n",
    "# Step 1: Create a database and connect to it\n",
    "conn = sqlite3.connect('weather.db')\n",
    "cur = conn.cursor()\n",
    "\n",
    "# Step 2: Check if the Weather table exist\n",
    "cur.execute('''DROP TABLE IF EXISTS Weather''')\n",
    "\n",
    "# Step 3: Create the Weather table\n",
    "cur.execute('''\n",
    "CREATE TABLE Weather (\n",
    "    id INTEGER PRIMARY KEY,\n",
    "    recordDate DATE,\n",
    "    temperature INTEGER\n",
    ")''')\n",
    "\n",
    "# Step 3: Insert the provided data into the Weather table\n",
    "cur.executemany('''\n",
    "INSERT INTO Weather (id, recordDate, temperature) VALUES (?, ?, ?)\n",
    "''', [\n",
    "    (1, '2015-01-01', 10),\n",
    "    (2, '2015-01-02', 25),\n",
    "    (3, '2015-01-03', 20),\n",
    "    (4, '2015-01-04', 30)\n",
    "])\n",
    "conn.commit()\n",
    "\n",
    "# Step 4: Write and execute a SQL query to solve the problem\n",
    "query = '''\n",
    "SELECT w1.id\n",
    "FROM Weather w1\n",
    "JOIN Weather w2 ON DATE(w1.recordDate) = DATE(w2.recordDate, '+1 day')\n",
    "WHERE w1.temperature > w2.temperature\n",
    "'''\n",
    "cur.execute(query)\n",
    "rows = cur.fetchall()\n",
    "#print(\"Result from SQL Query:\")\n",
    "print(\"id\")\n",
    "for row in rows:\n",
    "    print(row[0])\n",
    "\n",
    "    \n",
    "# Closing the database connection\n",
    "conn.close()\n"
   ]
  },
  {
   "cell_type": "code",
   "execution_count": 38,
   "id": "42b48d83-5cc6-4c71-8553-ee66882b08ae",
   "metadata": {
    "tags": []
   },
   "outputs": [
    {
     "name": "stdout",
     "output_type": "stream",
     "text": [
      "**\n",
      "*\n"
     ]
    }
   ],
   "source": [
    "#Question 23\n",
    "#In a jupyter notebook solve the following question using python. Please upload the notebook to GitHub and provide the link submission box below.\n",
    "#Develop a recursive function tough() that takes two nonnegative integer arguments and outputs a pattern as shown below. Hint: The first argument represents the indentation of the pattern, where the second argument -- always a pattern of 2 indicates the number *s in the longest line of *s in the pattern\n",
    "\n",
    "def tough(indentation, num_stars):\n",
    "    if num_stars <= 0 :\n",
    "        return\n",
    "    tough(indentation+1, num_stars-2)\n",
    "    print(' '*indentation + '*'*num_stars)\n",
    "    tough(indentation+1, num_stars-2)\n",
    "\n",
    "# Test the function\n",
    " \n",
    "tough(0, 2)\n",
    "tough(0, 1)"
   ]
  }
 ],
 "metadata": {
  "kernelspec": {
   "display_name": "Python 3 (ipykernel)",
   "language": "python",
   "name": "python3"
  },
  "language_info": {
   "codemirror_mode": {
    "name": "ipython",
    "version": 3
   },
   "file_extension": ".py",
   "mimetype": "text/x-python",
   "name": "python",
   "nbconvert_exporter": "python",
   "pygments_lexer": "ipython3",
   "version": "3.11.4"
  }
 },
 "nbformat": 4,
 "nbformat_minor": 5
}
